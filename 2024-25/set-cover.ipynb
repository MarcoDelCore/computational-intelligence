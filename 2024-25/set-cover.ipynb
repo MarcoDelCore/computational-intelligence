{
 "cells": [
  {
   "cell_type": "markdown",
   "metadata": {},
   "source": [
    "Copyright **`(c)`** 2024 Giovanni Squillero `<giovanni.squillero@polito.it>`  \n",
    "[`https://github.com/squillero/computational-intelligence`](https://github.com/squillero/computational-intelligence)  \n",
    "Free for personal or classroom use; see [`LICENSE.md`](https://github.com/squillero/computational-intelligence/blob/master/LICENSE.md) for details.  "
   ]
  },
  {
   "cell_type": "markdown",
   "metadata": {},
   "source": [
    "# Set Cover problem\n",
    "\n",
    "See: https://en.wikipedia.org/wiki/Set_cover_problem"
   ]
  },
  {
   "cell_type": "code",
   "execution_count": 138,
   "metadata": {},
   "outputs": [],
   "source": [
    "from random import random, seed\n",
    "from itertools import product, accumulate\n",
    "import numpy as np\n",
    "from tqdm.auto import tqdm\n",
    "from matplotlib import pyplot as plt\n",
    "\n",
    "from icecream import ic"
   ]
  },
  {
   "cell_type": "markdown",
   "metadata": {},
   "source": [
    "## Reproducible Initialization\n",
    "\n",
    "If you want to get reproducible results, use `rng` (and restart the kernel); for non-reproducible ones, use `np.random`."
   ]
  },
  {
   "cell_type": "code",
   "execution_count": 139,
   "metadata": {},
   "outputs": [],
   "source": [
    "UNIVERSE_SIZE = 10_000\n",
    "NUM_SETS = 1_000\n",
    "DENSITY = 0.1\n",
    "\n",
    "rng = np.random.Generator(np.random.PCG64([UNIVERSE_SIZE, NUM_SETS, int(10_000 * DENSITY)]))"
   ]
  },
  {
   "cell_type": "code",
   "execution_count": 140,
   "metadata": {},
   "outputs": [],
   "source": [
    "# DON'T EDIT THESE LINES!\n",
    "\n",
    "SETS = np.random.random((NUM_SETS, UNIVERSE_SIZE)) < DENSITY\n",
    "for s in range(UNIVERSE_SIZE):\n",
    "    if not np.any(SETS[:, s]):\n",
    "        SETS[np.random.randint(NUM_SETS), s] = True\n",
    "COSTS = np.pow(SETS.sum(axis=1), 1.1)"
   ]
  },
  {
   "cell_type": "markdown",
   "metadata": {},
   "source": [
    "## Helper Functions"
   ]
  },
  {
   "cell_type": "code",
   "execution_count": 141,
   "metadata": {},
   "outputs": [],
   "source": [
    "def valid(solution):\n",
    "    \"\"\"Checks wether solution is valid (ie. covers all universe)\"\"\"\n",
    "    phenotype = np.logical_or.reduce(SETS[solution])\n",
    "    return np.all(phenotype)\n",
    "\n",
    "\n",
    "def cost(solution):\n",
    "    \"\"\"Returns the cost of a solution (to be minimized)\"\"\"\n",
    "    return COSTS[solution].sum()"
   ]
  },
  {
   "cell_type": "markdown",
   "metadata": {},
   "source": [
    "## Have Fun!"
   ]
  },
  {
   "cell_type": "code",
   "execution_count": 142,
   "metadata": {},
   "outputs": [
    {
     "name": "stderr",
     "output_type": "stream",
     "text": [
      "ic| valid(solution): np.True_\n",
      "    cost(solution): np.float64(1998336.2152035171)\n"
     ]
    }
   ],
   "source": [
    "# A dumb solution of \"all\" sets\n",
    "solution = np.full(NUM_SETS, True)\n",
    "ic(valid(solution), cost(solution))\n",
    "None"
   ]
  },
  {
   "cell_type": "code",
   "execution_count": 143,
   "metadata": {},
   "outputs": [
    {
     "name": "stderr",
     "output_type": "stream",
     "text": [
      "ic| valid(solution): np.True_\n",
      "    cost(solution): np.float64(1047130.1069848168)\n"
     ]
    }
   ],
   "source": [
    "# A random solution with random 50% of the sets\n",
    "solution = rng.random(NUM_SETS) < .5\n",
    "ic(valid(solution), cost(solution))\n",
    "None"
   ]
  },
  {
   "cell_type": "markdown",
   "metadata": {},
   "source": [
    "# Simple RMHC"
   ]
  },
  {
   "cell_type": "code",
   "execution_count": 144,
   "metadata": {},
   "outputs": [],
   "source": [
    "def single_mutaion(solution: np.ndarray) -> np.ndarray:\n",
    "    new_solution = solution.copy()\n",
    "    index = rng.integers(0, NUM_SETS)\n",
    "    new_solution[index] = not new_solution[index]\n",
    "    return new_solution\n",
    "\n",
    "def fitness(solution: np.ndarray):\n",
    "    return (valid(solution), -cost(solution))"
   ]
  },
  {
   "cell_type": "code",
   "execution_count": 145,
   "metadata": {},
   "outputs": [
    {
     "name": "stderr",
     "output_type": "stream",
     "text": [
      "ic| solution_fitness: (np.True_, np.float64(-1998336.2152035171))\n",
      "ic| fitness(solution): (np.True_, np.float64(-113381.19676734449))\n"
     ]
    }
   ],
   "source": [
    "solution = rng.random(NUM_SETS) < 1\n",
    "solution_fitness = fitness(solution)\n",
    "history = [float(solution_fitness[1])]\n",
    "ic(solution_fitness)\n",
    "\n",
    "tweak = single_mutaion\n",
    "\n",
    "for steps in range(10_000):\n",
    "    new_solution = tweak(solution)\n",
    "    f = fitness(new_solution)\n",
    "    history.append(float(f[1]))\n",
    "    if (f > solution_fitness):\n",
    "        solution = new_solution\n",
    "        solution_fitness = fitness(solution)\n",
    "        #ic(fitness(solution))\n",
    "\n",
    "ic(fitness(solution))\n",
    "None"
   ]
  },
  {
   "cell_type": "markdown",
   "metadata": {},
   "source": [
    "# Multiple RMHC"
   ]
  },
  {
   "cell_type": "code",
   "execution_count": 146,
   "metadata": {},
   "outputs": [],
   "source": [
    "def multiple_mutation(solution: np.ndarray) -> np.ndarray:\n",
    "    mask = rng.random(NUM_SETS) < 0.5\n",
    "    new_solution = np.logical_xor(solution, mask)\n",
    "    return new_solution"
   ]
  },
  {
   "cell_type": "code",
   "execution_count": 147,
   "metadata": {},
   "outputs": [
    {
     "name": "stderr",
     "output_type": "stream",
     "text": [
      "ic| solution_fitness: (np.True_, np.float64(-585465.924202941))\n",
      "ic| fitness(solution): (np.True_, np.float64(-585465.924202941))\n"
     ]
    }
   ],
   "source": [
    "solution = rng.random(NUM_SETS) < 0.3\n",
    "solution_fitness = fitness(solution)\n",
    "history = [float(solution_fitness[1])]\n",
    "ic(solution_fitness)\n",
    "\n",
    "tweak = multiple_mutation\n",
    "\n",
    "for steps in range(10_000):\n",
    "    new_solution = tweak(solution)\n",
    "    f = fitness(new_solution)\n",
    "    history.append(float(f[1]))\n",
    "    if (f > solution_fitness):\n",
    "        solution = new_solution\n",
    "        solution_fitness = fitness(solution)\n",
    "        #ic(fitness(solution))\n",
    "\n",
    "ic(fitness(solution))\n",
    "None"
   ]
  },
  {
   "cell_type": "markdown",
   "metadata": {},
   "source": [
    "# Imporoved RMHC"
   ]
  },
  {
   "cell_type": "code",
   "execution_count": 148,
   "metadata": {},
   "outputs": [],
   "source": [
    "def multiple_mutation_strength(solution: np.ndarray, strength: float = 0.3) -> np.ndarray:\n",
    "    mask = rng.random(NUM_SETS) < strength\n",
    "    if not np.any(mask):\n",
    "        mask[np.random.randint(NUM_SETS)] = True\n",
    "    new_solution = np.logical_xor(solution, mask)\n",
    "    return new_solution"
   ]
  },
  {
   "cell_type": "code",
   "execution_count": 149,
   "metadata": {},
   "outputs": [
    {
     "name": "stderr",
     "output_type": "stream",
     "text": [
      "ic| solution_fitness: (np.True_, np.float64(-1586975.2369729434))\n",
      "ic| fitness(solution): (np.True_, np.float64(-110547.36470757202))\n"
     ]
    }
   ],
   "source": [
    "solution = rng.random(NUM_SETS) < 0.8\n",
    "BUFFER_SIZE = 13\n",
    "solution_fitness = fitness(solution)\n",
    "history = [float(solution_fitness[1])]\n",
    "ic(solution_fitness)\n",
    "\n",
    "tweak = multiple_mutation_strength\n",
    "\n",
    "strength = 0.5\n",
    "buffer = list()\n",
    "\n",
    "for steps in range(10_000):\n",
    "    new_solution = tweak(solution, strength)\n",
    "    f = fitness(new_solution)\n",
    "    history.append(float(f[1]))\n",
    "    buffer.append(f > solution_fitness)\n",
    "\n",
    "    buffer = buffer[-BUFFER_SIZE:]\n",
    "    if sum(buffer) > BUFFER_SIZE / 2:\n",
    "        strength *= 1.2\n",
    "    elif sum(buffer) < BUFFER_SIZE / 2:\n",
    "        strength /= 1.2\n",
    "\n",
    "    if (f > solution_fitness):\n",
    "        solution = new_solution\n",
    "        solution_fitness = fitness(solution)\n",
    "\n",
    "ic(fitness(solution))\n",
    "None"
   ]
  }
 ],
 "metadata": {
  "kernelspec": {
   "display_name": "ci-K8hdbkxV-py3.12",
   "language": "python",
   "name": "python3"
  },
  "language_info": {
   "codemirror_mode": {
    "name": "ipython",
    "version": 3
   },
   "file_extension": ".py",
   "mimetype": "text/x-python",
   "name": "python",
   "nbconvert_exporter": "python",
   "pygments_lexer": "ipython3",
   "version": "3.12.6"
  }
 },
 "nbformat": 4,
 "nbformat_minor": 4
}
